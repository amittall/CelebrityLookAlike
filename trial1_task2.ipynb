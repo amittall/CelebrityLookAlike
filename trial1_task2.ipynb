{
  "nbformat": 4,
  "nbformat_minor": 0,
  "metadata": {
    "colab": {
      "provenance": [],
      "gpuType": "T4",
      "name": "trial1-task2.ipynb",
      "include_colab_link": true
    },
    "kernelspec": {
      "name": "python3",
      "display_name": "Python 3"
    },
    "language_info": {
      "name": "python"
    },
    "accelerator": "GPU"
  },
  "cells": [
    {
      "cell_type": "markdown",
      "metadata": {
        "id": "view-in-github",
        "colab_type": "text"
      },
      "source": [
        "<a href=\"https://colab.research.google.com/github/amittall/REG-Cricket/blob/main/trial1_task2.ipynb\" target=\"_parent\"><img src=\"https://colab.research.google.com/assets/colab-badge.svg\" alt=\"Open In Colab\"/></a>"
      ]
    },
    {
      "cell_type": "markdown",
      "source": [
        "**Hand Gesture Detection assignment**\n",
        "\n",
        "\n",
        "\n",
        "   Instruction/Hints are mentioned, to run the cell you have to do shift+enter\n",
        "\n"
      ],
      "metadata": {
        "id": "eGP-BSmIV919"
      }
    },
    {
      "cell_type": "code",
      "source": [
        "!pip install opendatasets\n",
        "!pip install keras\n",
        "!pip install tensorflow\n",
        "!pip install rasa==1.1.4"
      ],
      "metadata": {
        "id": "q6kVvrvqBNmi",
        "colab": {
          "base_uri": "https://localhost:8080/"
        },
        "outputId": "f73a6e85-5448-44fe-d7ed-c94c51d30450"
      },
      "execution_count": null,
      "outputs": [
        {
          "output_type": "stream",
          "name": "stdout",
          "text": [
            "Collecting opendatasets\n",
            "  Downloading opendatasets-0.1.22-py3-none-any.whl (15 kB)\n",
            "Requirement already satisfied: tqdm in /usr/local/lib/python3.10/dist-packages (from opendatasets) (4.66.1)\n",
            "Requirement already satisfied: kaggle in /usr/local/lib/python3.10/dist-packages (from opendatasets) (1.5.16)\n",
            "Requirement already satisfied: click in /usr/local/lib/python3.10/dist-packages (from opendatasets) (8.1.7)\n",
            "Requirement already satisfied: six>=1.10 in /usr/local/lib/python3.10/dist-packages (from kaggle->opendatasets) (1.16.0)\n",
            "Requirement already satisfied: certifi in /usr/local/lib/python3.10/dist-packages (from kaggle->opendatasets) (2023.11.17)\n",
            "Requirement already satisfied: python-dateutil in /usr/local/lib/python3.10/dist-packages (from kaggle->opendatasets) (2.8.2)\n",
            "Requirement already satisfied: requests in /usr/local/lib/python3.10/dist-packages (from kaggle->opendatasets) (2.31.0)\n",
            "Requirement already satisfied: python-slugify in /usr/local/lib/python3.10/dist-packages (from kaggle->opendatasets) (8.0.1)\n",
            "Requirement already satisfied: urllib3 in /usr/local/lib/python3.10/dist-packages (from kaggle->opendatasets) (2.0.7)\n",
            "Requirement already satisfied: bleach in /usr/local/lib/python3.10/dist-packages (from kaggle->opendatasets) (6.1.0)\n",
            "Requirement already satisfied: webencodings in /usr/local/lib/python3.10/dist-packages (from bleach->kaggle->opendatasets) (0.5.1)\n",
            "Requirement already satisfied: text-unidecode>=1.3 in /usr/local/lib/python3.10/dist-packages (from python-slugify->kaggle->opendatasets) (1.3)\n",
            "Requirement already satisfied: charset-normalizer<4,>=2 in /usr/local/lib/python3.10/dist-packages (from requests->kaggle->opendatasets) (3.3.2)\n",
            "Requirement already satisfied: idna<4,>=2.5 in /usr/local/lib/python3.10/dist-packages (from requests->kaggle->opendatasets) (3.6)\n",
            "Installing collected packages: opendatasets\n",
            "Successfully installed opendatasets-0.1.22\n",
            "Requirement already satisfied: keras in /usr/local/lib/python3.10/dist-packages (2.15.0)\n",
            "Requirement already satisfied: tensorflow in /usr/local/lib/python3.10/dist-packages (2.15.0)\n",
            "Requirement already satisfied: absl-py>=1.0.0 in /usr/local/lib/python3.10/dist-packages (from tensorflow) (1.4.0)\n",
            "Requirement already satisfied: astunparse>=1.6.0 in /usr/local/lib/python3.10/dist-packages (from tensorflow) (1.6.3)\n",
            "Requirement already satisfied: flatbuffers>=23.5.26 in /usr/local/lib/python3.10/dist-packages (from tensorflow) (23.5.26)\n",
            "Requirement already satisfied: gast!=0.5.0,!=0.5.1,!=0.5.2,>=0.2.1 in /usr/local/lib/python3.10/dist-packages (from tensorflow) (0.5.4)\n",
            "Requirement already satisfied: google-pasta>=0.1.1 in /usr/local/lib/python3.10/dist-packages (from tensorflow) (0.2.0)\n",
            "Requirement already satisfied: h5py>=2.9.0 in /usr/local/lib/python3.10/dist-packages (from tensorflow) (3.9.0)\n",
            "Requirement already satisfied: libclang>=13.0.0 in /usr/local/lib/python3.10/dist-packages (from tensorflow) (16.0.6)\n",
            "Requirement already satisfied: ml-dtypes~=0.2.0 in /usr/local/lib/python3.10/dist-packages (from tensorflow) (0.2.0)\n",
            "Requirement already satisfied: numpy<2.0.0,>=1.23.5 in /usr/local/lib/python3.10/dist-packages (from tensorflow) (1.23.5)\n",
            "Requirement already satisfied: opt-einsum>=2.3.2 in /usr/local/lib/python3.10/dist-packages (from tensorflow) (3.3.0)\n",
            "Requirement already satisfied: packaging in /usr/local/lib/python3.10/dist-packages (from tensorflow) (23.2)\n",
            "Requirement already satisfied: protobuf!=4.21.0,!=4.21.1,!=4.21.2,!=4.21.3,!=4.21.4,!=4.21.5,<5.0.0dev,>=3.20.3 in /usr/local/lib/python3.10/dist-packages (from tensorflow) (3.20.3)\n",
            "Requirement already satisfied: setuptools in /usr/local/lib/python3.10/dist-packages (from tensorflow) (67.7.2)\n",
            "Requirement already satisfied: six>=1.12.0 in /usr/local/lib/python3.10/dist-packages (from tensorflow) (1.16.0)\n",
            "Requirement already satisfied: termcolor>=1.1.0 in /usr/local/lib/python3.10/dist-packages (from tensorflow) (2.4.0)\n",
            "Requirement already satisfied: typing-extensions>=3.6.6 in /usr/local/lib/python3.10/dist-packages (from tensorflow) (4.5.0)\n",
            "Requirement already satisfied: wrapt<1.15,>=1.11.0 in /usr/local/lib/python3.10/dist-packages (from tensorflow) (1.14.1)\n",
            "Requirement already satisfied: tensorflow-io-gcs-filesystem>=0.23.1 in /usr/local/lib/python3.10/dist-packages (from tensorflow) (0.34.0)\n",
            "Requirement already satisfied: grpcio<2.0,>=1.24.3 in /usr/local/lib/python3.10/dist-packages (from tensorflow) (1.60.0)\n",
            "Requirement already satisfied: tensorboard<2.16,>=2.15 in /usr/local/lib/python3.10/dist-packages (from tensorflow) (2.15.1)\n",
            "Requirement already satisfied: tensorflow-estimator<2.16,>=2.15.0 in /usr/local/lib/python3.10/dist-packages (from tensorflow) (2.15.0)\n",
            "Requirement already satisfied: keras<2.16,>=2.15.0 in /usr/local/lib/python3.10/dist-packages (from tensorflow) (2.15.0)\n",
            "Requirement already satisfied: wheel<1.0,>=0.23.0 in /usr/local/lib/python3.10/dist-packages (from astunparse>=1.6.0->tensorflow) (0.42.0)\n",
            "Requirement already satisfied: google-auth<3,>=1.6.3 in /usr/local/lib/python3.10/dist-packages (from tensorboard<2.16,>=2.15->tensorflow) (2.17.3)\n",
            "Requirement already satisfied: google-auth-oauthlib<2,>=0.5 in /usr/local/lib/python3.10/dist-packages (from tensorboard<2.16,>=2.15->tensorflow) (1.2.0)\n",
            "Requirement already satisfied: markdown>=2.6.8 in /usr/local/lib/python3.10/dist-packages (from tensorboard<2.16,>=2.15->tensorflow) (3.5.1)\n",
            "Requirement already satisfied: requests<3,>=2.21.0 in /usr/local/lib/python3.10/dist-packages (from tensorboard<2.16,>=2.15->tensorflow) (2.31.0)\n",
            "Requirement already satisfied: tensorboard-data-server<0.8.0,>=0.7.0 in /usr/local/lib/python3.10/dist-packages (from tensorboard<2.16,>=2.15->tensorflow) (0.7.2)\n",
            "Requirement already satisfied: werkzeug>=1.0.1 in /usr/local/lib/python3.10/dist-packages (from tensorboard<2.16,>=2.15->tensorflow) (3.0.1)\n",
            "Requirement already satisfied: cachetools<6.0,>=2.0.0 in /usr/local/lib/python3.10/dist-packages (from google-auth<3,>=1.6.3->tensorboard<2.16,>=2.15->tensorflow) (5.3.2)\n",
            "Requirement already satisfied: pyasn1-modules>=0.2.1 in /usr/local/lib/python3.10/dist-packages (from google-auth<3,>=1.6.3->tensorboard<2.16,>=2.15->tensorflow) (0.3.0)\n",
            "Requirement already satisfied: rsa<5,>=3.1.4 in /usr/local/lib/python3.10/dist-packages (from google-auth<3,>=1.6.3->tensorboard<2.16,>=2.15->tensorflow) (4.9)\n",
            "Requirement already satisfied: requests-oauthlib>=0.7.0 in /usr/local/lib/python3.10/dist-packages (from google-auth-oauthlib<2,>=0.5->tensorboard<2.16,>=2.15->tensorflow) (1.3.1)\n",
            "Requirement already satisfied: charset-normalizer<4,>=2 in /usr/local/lib/python3.10/dist-packages (from requests<3,>=2.21.0->tensorboard<2.16,>=2.15->tensorflow) (3.3.2)\n",
            "Requirement already satisfied: idna<4,>=2.5 in /usr/local/lib/python3.10/dist-packages (from requests<3,>=2.21.0->tensorboard<2.16,>=2.15->tensorflow) (3.6)\n",
            "Requirement already satisfied: urllib3<3,>=1.21.1 in /usr/local/lib/python3.10/dist-packages (from requests<3,>=2.21.0->tensorboard<2.16,>=2.15->tensorflow) (2.0.7)\n",
            "Requirement already satisfied: certifi>=2017.4.17 in /usr/local/lib/python3.10/dist-packages (from requests<3,>=2.21.0->tensorboard<2.16,>=2.15->tensorflow) (2023.11.17)\n",
            "Requirement already satisfied: MarkupSafe>=2.1.1 in /usr/local/lib/python3.10/dist-packages (from werkzeug>=1.0.1->tensorboard<2.16,>=2.15->tensorflow) (2.1.3)\n",
            "Requirement already satisfied: pyasn1<0.6.0,>=0.4.6 in /usr/local/lib/python3.10/dist-packages (from pyasn1-modules>=0.2.1->google-auth<3,>=1.6.3->tensorboard<2.16,>=2.15->tensorflow) (0.5.1)\n",
            "Requirement already satisfied: oauthlib>=3.0.0 in /usr/local/lib/python3.10/dist-packages (from requests-oauthlib>=0.7.0->google-auth-oauthlib<2,>=0.5->tensorboard<2.16,>=2.15->tensorflow) (3.2.2)\n",
            "Collecting rasa==1.1.4\n",
            "  Downloading rasa-1.1.4-py3-none-any.whl (447 kB)\n",
            "\u001b[2K     \u001b[90m━━━━━━━━━━━━━━━━━━━━━━━━━━━━━━━━━━━━━━━━\u001b[0m \u001b[32m447.2/447.2 kB\u001b[0m \u001b[31m3.3 MB/s\u001b[0m eta \u001b[36m0:00:00\u001b[0m\n",
            "\u001b[?25hRequirement already satisfied: requests~=2.22 in /usr/local/lib/python3.10/dist-packages (from rasa==1.1.4) (2.31.0)\n",
            "Collecting boto3~=1.9 (from rasa==1.1.4)\n",
            "  Downloading boto3-1.34.2-py3-none-any.whl (139 kB)\n",
            "\u001b[2K     \u001b[90m━━━━━━━━━━━━━━━━━━━━━━━━━━━━━━━━━━━━━━━━\u001b[0m \u001b[32m139.3/139.3 kB\u001b[0m \u001b[31m17.0 MB/s\u001b[0m eta \u001b[36m0:00:00\u001b[0m\n",
            "\u001b[?25hRequirement already satisfied: matplotlib~=3.0 in /usr/local/lib/python3.10/dist-packages (from rasa==1.1.4) (3.7.1)\n",
            "Collecting simplejson~=3.16 (from rasa==1.1.4)\n",
            "  Downloading simplejson-3.19.2-cp310-cp310-manylinux_2_5_x86_64.manylinux1_x86_64.manylinux_2_17_x86_64.manylinux2014_x86_64.whl (137 kB)\n",
            "\u001b[2K     \u001b[90m━━━━━━━━━━━━━━━━━━━━━━━━━━━━━━━━━━━━━━━━\u001b[0m \u001b[32m137.9/137.9 kB\u001b[0m \u001b[31m17.3 MB/s\u001b[0m eta \u001b[36m0:00:00\u001b[0m\n",
            "\u001b[?25hRequirement already satisfied: attrs>=18 in /usr/local/lib/python3.10/dist-packages (from rasa==1.1.4) (23.1.0)\n",
            "Collecting jsonpickle~=1.1 (from rasa==1.1.4)\n",
            "  Downloading jsonpickle-1.5.2-py2.py3-none-any.whl (37 kB)\n",
            "Collecting redis~=3.2 (from rasa==1.1.4)\n",
            "  Downloading redis-3.5.3-py2.py3-none-any.whl (72 kB)\n",
            "\u001b[2K     \u001b[90m━━━━━━━━━━━━━━━━━━━━━━━━━━━━━━━━━━━━━━━━\u001b[0m \u001b[32m72.1/72.1 kB\u001b[0m \u001b[31m3.5 MB/s\u001b[0m eta \u001b[36m0:00:00\u001b[0m\n",
            "\u001b[?25hCollecting fakeredis~=1.0 (from rasa==1.1.4)\n",
            "  Downloading fakeredis-1.10.2-py3-none-any.whl (43 kB)\n",
            "\u001b[2K     \u001b[90m━━━━━━━━━━━━━━━━━━━━━━━━━━━━━━━━━━━━━━━━\u001b[0m \u001b[32m43.0/43.0 kB\u001b[0m \u001b[31m5.5 MB/s\u001b[0m eta \u001b[36m0:00:00\u001b[0m\n",
            "\u001b[?25hCollecting pymongo~=3.8 (from rasa==1.1.4)\n",
            "  Downloading pymongo-3.13.0-cp310-cp310-manylinux_2_17_x86_64.manylinux2014_x86_64.whl (516 kB)\n",
            "\u001b[2K     \u001b[90m━━━━━━━━━━━━━━━━━━━━━━━━━━━━━━━━━━━━━━━━\u001b[0m \u001b[32m516.2/516.2 kB\u001b[0m \u001b[31m12.5 MB/s\u001b[0m eta \u001b[36m0:00:00\u001b[0m\n",
            "\u001b[?25hRequirement already satisfied: numpy~=1.16 in /usr/local/lib/python3.10/dist-packages (from rasa==1.1.4) (1.23.5)\n",
            "Requirement already satisfied: scipy~=1.2 in /usr/local/lib/python3.10/dist-packages (from rasa==1.1.4) (1.11.4)\n",
            "INFO: pip is looking at multiple versions of rasa to determine which version is compatible with other requirements. This could take a while.\n",
            "\u001b[31mERROR: Ignored the following versions that require a different python version: 1.10.10 Requires-Python >=3.6,<3.8; 1.10.11 Requires-Python >=3.6,<3.8; 1.10.12 Requires-Python >=3.6,<3.8; 1.10.13 Requires-Python >=3.6,<3.8; 1.10.14 Requires-Python >=3.6,<3.8; 1.10.15 Requires-Python >=3.6,<3.8; 1.10.16 Requires-Python >=3.6,<3.8; 1.10.17 Requires-Python >=3.6,<3.8; 1.10.18 Requires-Python >=3.6,<3.8; 1.10.19 Requires-Python >=3.6,<3.8; 1.10.20 Requires-Python >=3.6,<3.8; 1.10.21 Requires-Python >=3.6,<3.8; 1.10.22 Requires-Python >=3.6,<3.8; 1.10.23 Requires-Python >=3.6,<3.8; 1.10.24 Requires-Python >=3.6,<3.8; 1.10.25 Requires-Python >=3.6,<3.8; 1.10.26 Requires-Python >=3.6,<3.8; 1.10.3 Requires-Python >=3.6,<3.8; 1.10.4 Requires-Python >=3.6,<3.8; 1.10.5 Requires-Python >=3.6,<3.8; 1.10.6 Requires-Python >=3.6,<3.8; 1.10.7 Requires-Python >=3.6,<3.8; 1.10.8 Requires-Python >=3.6,<3.8; 1.10.9 Requires-Python >=3.6,<3.8; 2.0.0 Requires-Python >=3.6,<3.9; 2.0.0a1 Requires-Python >=3.6,<3.9; 2.0.0a2 Requires-Python >=3.6,<3.9; 2.0.0a3 Requires-Python >=3.6,<3.9; 2.0.0a4 Requires-Python >=3.6,<3.9; 2.0.0a5 Requires-Python >=3.6,<3.9; 2.0.0a6 Requires-Python >=3.6,<3.9; 2.0.0rc1 Requires-Python >=3.6,<3.9; 2.0.0rc2 Requires-Python >=3.6,<3.9; 2.0.0rc3 Requires-Python >=3.6,<3.9; 2.0.0rc4 Requires-Python >=3.6,<3.9; 2.0.1 Requires-Python >=3.6,<3.9; 2.0.2 Requires-Python >=3.6,<3.9; 2.0.3 Requires-Python >=3.6,<3.9; 2.0.4 Requires-Python >=3.6,<3.9; 2.0.5 Requires-Python >=3.6,<3.9; 2.0.6 Requires-Python >=3.6,<3.9; 2.0.7 Requires-Python >=3.6,<3.9; 2.0.8 Requires-Python >=3.6,<3.9; 2.1.0 Requires-Python >=3.6,<3.9; 2.1.1 Requires-Python >=3.6,<3.9; 2.1.2 Requires-Python >=3.6,<3.9; 2.1.3 Requires-Python >=3.6,<3.9; 2.2.0 Requires-Python >=3.6,<3.9; 2.2.0a1 Requires-Python >=3.6,<3.9; 2.2.1 Requires-Python >=3.6,<3.9; 2.2.10 Requires-Python >=3.6,<3.9; 2.2.2 Requires-Python >=3.6,<3.9; 2.2.3 Requires-Python >=3.6,<3.9; 2.2.4 Requires-Python >=3.6,<3.9; 2.2.5 Requires-Python >=3.6,<3.9; 2.2.6 Requires-Python >=3.6,<3.9; 2.2.7 Requires-Python >=3.6,<3.9; 2.2.8 Requires-Python >=3.6,<3.9; 2.2.9 Requires-Python >=3.6,<3.9; 2.3.0 Requires-Python >=3.6,<3.9; 2.3.1 Requires-Python >=3.6,<3.9; 2.3.2 Requires-Python >=3.6,<3.9; 2.3.3 Requires-Python >=3.6,<3.9; 2.3.4 Requires-Python >=3.6,<3.9; 2.3.5 Requires-Python >=3.6,<3.9; 2.4.0 Requires-Python >=3.6,<3.9; 2.4.1 Requires-Python >=3.6,<3.9; 2.4.2 Requires-Python >=3.6,<3.9; 2.4.3 Requires-Python >=3.6,<3.9; 2.5.0 Requires-Python >=3.6,<3.9; 2.5.1 Requires-Python >=3.6,<3.9; 2.5.2 Requires-Python >=3.6,<3.9; 2.6.0 Requires-Python >=3.6,<3.9; 2.6.1 Requires-Python >=3.6,<3.9; 2.6.2 Requires-Python >=3.6,<3.9; 2.6.3 Requires-Python >=3.6,<3.9; 2.7.0 Requires-Python >=3.6,<3.9; 2.7.1 Requires-Python >=3.6,<3.9; 2.7.2 Requires-Python >=3.6,<3.9; 2.8.0 Requires-Python >=3.6,<3.9; 2.8.1 Requires-Python >=3.6,<3.9; 2.8.10 Requires-Python >=3.6,<3.9; 2.8.11 Requires-Python >=3.6,<3.9; 2.8.12 Requires-Python >=3.6,<3.9; 2.8.13 Requires-Python >=3.6,<3.9; 2.8.14 Requires-Python >=3.6,<3.9; 2.8.15 Requires-Python >=3.6,<3.9; 2.8.16 Requires-Python >=3.6,<3.9; 2.8.17 Requires-Python >=3.6,<3.9; 2.8.18 Requires-Python >=3.6,<3.9; 2.8.19 Requires-Python >=3.6,<3.9; 2.8.2 Requires-Python >=3.6,<3.9; 2.8.20 Requires-Python >=3.6,<3.9; 2.8.21 Requires-Python >=3.6,<3.9; 2.8.22 Requires-Python >=3.6,<3.9; 2.8.23 Requires-Python >=3.6,<3.9; 2.8.24 Requires-Python >=3.6,<3.9; 2.8.25 Requires-Python >=3.6,<3.9; 2.8.26 Requires-Python >=3.6,<3.9; 2.8.27 Requires-Python >=3.7,<3.9; 2.8.28 Requires-Python >=3.7,<3.9; 2.8.29 Requires-Python >=3.7,<3.9; 2.8.3 Requires-Python >=3.6,<3.9; 2.8.30 Requires-Python >=3.7,<3.9; 2.8.31 Requires-Python >=3.7,<3.9; 2.8.32 Requires-Python >=3.7,<3.9; 2.8.33 Requires-Python >=3.7,<3.9; 2.8.34 Requires-Python >=3.7,<3.9; 2.8.4 Requires-Python >=3.6,<3.9; 2.8.5 Requires-Python >=3.6,<3.9; 2.8.6 Requires-Python >=3.6,<3.9; 2.8.7 Requires-Python >=3.6,<3.9; 2.8.8 Requires-Python >=3.6,<3.9; 2.8.9 Requires-Python >=3.6,<3.9; 3.0.0 Requires-Python >=3.7,<3.9; 3.0.0rc1 Requires-Python >=3.7,<3.9; 3.0.0rc2 Requires-Python >=3.7,<3.9; 3.0.0rc3 Requires-Python >=3.7,<3.9; 3.0.1 Requires-Python >=3.7,<3.9; 3.0.11 Requires-Python >=3.7,<3.9; 3.0.12 Requires-Python >=3.7,<3.9; 3.0.13 Requires-Python >=3.7,<3.9; 3.0.2 Requires-Python >=3.7,<3.9; 3.0.3 Requires-Python >=3.7,<3.9; 3.0.4 Requires-Python >=3.7,<3.9; 3.0.5 Requires-Python >=3.7,<3.9; 3.0.6 Requires-Python >=3.7,<3.9; 3.0.7 Requires-Python >=3.7,<3.9; 3.0.8 Requires-Python >=3.7,<3.9; 3.0.9 Requires-Python >=3.7,<3.9; 3.1.0 Requires-Python >=3.7,<3.10; 3.1.1 Requires-Python >=3.7,<3.10; 3.1.2 Requires-Python >=3.7,<3.10; 3.1.3 Requires-Python >=3.7,<3.10; 3.1.4 Requires-Python >=3.7,<3.10; 3.1.5 Requires-Python >=3.7,<3.10; 3.1.6 Requires-Python >=3.7,<3.10; 3.1.7 Requires-Python >=3.7,<3.10; 3.2.0 Requires-Python >=3.7,<3.10; 3.2.1 Requires-Python >=3.7,<3.10; 3.2.10 Requires-Python >=3.7,<3.10; 3.2.11 Requires-Python >=3.7,<3.10; 3.2.12 Requires-Python >=3.7,<3.10; 3.2.13 Requires-Python >=3.7,<3.10; 3.2.2 Requires-Python >=3.7,<3.10; 3.2.4 Requires-Python >=3.7,<3.10; 3.2.5 Requires-Python >=3.7,<3.10; 3.2.6 Requires-Python >=3.7,<3.10; 3.2.7 Requires-Python >=3.7,<3.10; 3.2.8 Requires-Python >=3.7,<3.10; 3.3.0 Requires-Python >=3.7,<3.10; 3.3.0a1 Requires-Python >=3.7,<3.10; 3.3.1 Requires-Python >=3.7,<3.10; 3.3.10 Requires-Python >=3.7,<3.10; 3.3.11 Requires-Python >=3.7,<3.10; 3.3.12 Requires-Python >=3.7,<3.10; 3.3.2 Requires-Python >=3.7,<3.10; 3.3.3 Requires-Python >=3.7,<3.10; 3.3.4 Requires-Python >=3.7,<3.10; 3.3.5 Requires-Python >=3.7,<3.10; 3.3.6 Requires-Python >=3.7,<3.10; 3.3.7 Requires-Python >=3.7,<3.10; 3.3.8 Requires-Python >=3.7,<3.10; 3.3.9 Requires-Python >=3.7,<3.10\u001b[0m\u001b[31m\n",
            "\u001b[0m\u001b[31mERROR: Could not find a version that satisfies the requirement tensorflow~=1.13.0 (from rasa) (from versions: 2.8.0rc0, 2.8.0rc1, 2.8.0, 2.8.1, 2.8.2, 2.8.3, 2.8.4, 2.9.0rc0, 2.9.0rc1, 2.9.0rc2, 2.9.0, 2.9.1, 2.9.2, 2.9.3, 2.10.0rc0, 2.10.0rc1, 2.10.0rc2, 2.10.0rc3, 2.10.0, 2.10.1, 2.11.0rc0, 2.11.0rc1, 2.11.0rc2, 2.11.0, 2.11.1, 2.12.0rc0, 2.12.0rc1, 2.12.0, 2.12.1, 2.13.0rc0, 2.13.0rc1, 2.13.0rc2, 2.13.0, 2.13.1, 2.14.0rc0, 2.14.0rc1, 2.14.0, 2.14.1, 2.15.0rc0, 2.15.0rc1, 2.15.0, 2.15.0.post1)\u001b[0m\u001b[31m\n",
            "\u001b[0m\u001b[31mERROR: No matching distribution found for tensorflow~=1.13.0\u001b[0m\u001b[31m\n",
            "\u001b[0m"
          ]
        }
      ]
    },
    {
      "cell_type": "code",
      "source": [
        "# Import all the necessary dependcies\n",
        "\n",
        "import math\n",
        "import numpy as np\n",
        "import matplotlib.pyplot as plt\n",
        "from matplotlib.pyplot import imread\n",
        "import scipy\n",
        "from PIL import Image\n",
        "import pandas as pd\n",
        "import tensorflow as tf\n",
        "import tensorflow.keras.layers as tfl\n",
        "from tensorflow.python.framework import ops"
      ],
      "metadata": {
        "id": "dUOO_1rLBUyz"
      },
      "execution_count": null,
      "outputs": []
    },
    {
      "cell_type": "code",
      "source": [
        "from keras.models import Sequential\n",
        "from keras.layers import Convolution2D, Dropout, Dense\n",
        "from keras.layers import BatchNormalization\n",
        "from keras.layers import MaxPooling2D\n",
        "from keras.layers import Flatten"
      ],
      "metadata": {
        "id": "wObaP9rrqDhW"
      },
      "execution_count": null,
      "outputs": []
    },
    {
      "cell_type": "markdown",
      "source": [
        "You will have to make an account on kaggle and will have to use that 'username' and key."
      ],
      "metadata": {
        "id": "J5VzIMhTXZ3U"
      }
    },
    {
      "cell_type": "code",
      "source": [
        "# Download the dataset from kaggle\n",
        "\n",
        "\n",
        "import opendatasets as od\n",
        "import pandas as pd\n",
        "od.download(\"https://www.kaggle.com/datasets/koryakinp/fingers\")"
      ],
      "metadata": {
        "id": "mrNGblj5BcsB",
        "colab": {
          "base_uri": "https://localhost:8080/"
        },
        "outputId": "5732a4d5-7be9-4256-f3a7-069a6b139008"
      },
      "execution_count": null,
      "outputs": [
        {
          "output_type": "stream",
          "name": "stdout",
          "text": [
            "Please provide your Kaggle credentials to download this dataset. Learn more: http://bit.ly/kaggle-creds\n",
            "Your Kaggle username: anushreeemittal\n",
            "Your Kaggle Key: ··········\n",
            "Downloading fingers.zip to ./fingers\n"
          ]
        },
        {
          "output_type": "stream",
          "name": "stderr",
          "text": [
            "100%|██████████| 363M/363M [00:04<00:00, 90.4MB/s]"
          ]
        },
        {
          "output_type": "stream",
          "name": "stdout",
          "text": [
            "\n"
          ]
        },
        {
          "output_type": "stream",
          "name": "stderr",
          "text": [
            "\n"
          ]
        }
      ]
    },
    {
      "cell_type": "code",
      "source": [
        "#Count of images in test and train directory\n",
        "import os\n",
        "\n",
        "train_count=0\n",
        "test_count=0\n",
        "dataset_dir = '/content/fingers/train'\n",
        "for filename in os.listdir(dataset_dir):\n",
        "    train_count = train_count+1\n",
        "dataset_dir = '/content/fingers/test'\n",
        "for filename in os.listdir(dataset_dir):\n",
        "    test_count = test_count+1\n",
        "print(\"Train Count : %s\",train_count)\n",
        "print(\"Test Count : %s\",test_count)"
      ],
      "metadata": {
        "colab": {
          "base_uri": "https://localhost:8080/"
        },
        "id": "odpN9BWmqhFF",
        "outputId": "3ca9f6d0-ca2f-4d6d-cea2-10a87495c23e"
      },
      "execution_count": null,
      "outputs": [
        {
          "output_type": "stream",
          "name": "stdout",
          "text": [
            "Train Count : %s 18000\n",
            "Test Count : %s 3600\n"
          ]
        }
      ]
    },
    {
      "cell_type": "code",
      "source": [
        "import os\n",
        "import cv2\n",
        "import numpy as np\n",
        "\n",
        "# Path to the dataset directory\n",
        "dataset_dir = '/content/fingers/train'\n",
        "\n",
        "# Initialize lists to store images and labels\n",
        "images = []\n",
        "labels = []\n",
        "\n",
        "\n",
        "# Iterate through each image file\n",
        "for filename in os.listdir(dataset_dir):\n",
        "    #print(filename)\n",
        "    # Load the image using OpenCV\n",
        "    image=cv2.imread('/content/fingers/train/'+filename)\n",
        "\n",
        "    #print(image.shape)\n",
        "\n",
        "\n",
        "    # Resize the image to a desired size (e.g., 64x64)\n",
        "    new=cv2.resize(image,(128,128))\n",
        "\n",
        "    # Append the image to the images list\n",
        "    images.append(new)\n",
        "\n",
        "    # Get the label from the filename (the first character)\n",
        "\n",
        "    chr=filename[-6:-4]\n",
        "\n",
        "    # Append the label to the labels list\n",
        "    labels.append(chr)\n",
        "\n",
        "    # Convert the lists to NumPy arrays\n",
        "    train_labels = np.asarray(labels)\n",
        "    train_images = np.asarray(images)"
      ],
      "metadata": {
        "id": "RS3FXTkNqbRo"
      },
      "execution_count": null,
      "outputs": []
    },
    {
      "cell_type": "code",
      "source": [
        "import os\n",
        "import cv2\n",
        "import numpy as np\n",
        "\n",
        "# Path to the dataset directory\n",
        "dataset_dir = '/content/fingers/test'\n",
        "\n",
        "# Initialize lists to store images and labels\n",
        "images = []\n",
        "labels = []\n",
        "\n",
        "\n",
        "# Iterate through each image file\n",
        "for filename in os.listdir(dataset_dir):\n",
        "    #print(filename)\n",
        "    # Load the image using OpenCV\n",
        "    image=cv2.imread('/content/fingers/test/'+filename)\n",
        "\n",
        "    #print(image.shape)\n",
        "    # Resize the image to a desired size (e.g., 64x64)\n",
        "    new=cv2.resize(image,(128,128))\n",
        "\n",
        "    # Append the image to the images list\n",
        "    images.append(new)\n",
        "\n",
        "    # Get the label from the filename (the first character)\n",
        "\n",
        "    chr=filename[-6:-4]\n",
        "\n",
        "    # Append the label to the labels list\n",
        "    labels.append(chr)\n",
        "\n",
        "    # Convert the lists to NumPy arrays\n",
        "    #test_labels = np.asarray(labels)\n",
        "    #test_images = np.asarray(images)"
      ],
      "metadata": {
        "id": "KSshdfM7BjEe"
      },
      "execution_count": null,
      "outputs": []
    },
    {
      "cell_type": "code",
      "source": [
        "from sklearn import metrics\n",
        "from sklearn.preprocessing import LabelEncoder\n",
        "le = LabelEncoder()\n",
        "test_labels=labels\n",
        "test_images=images\n",
        "#y_train = le.fit_transform(y_train)\n",
        "y_test = le.fit_transform(test_labels)\n",
        "\n",
        "#y_train = tf.keras.utils.to_categorical(y_train, num_classes=12)\n",
        "y_test = tf.keras.utils.to_categorical(y_test, num_classes=12)\n",
        "\n",
        "#y_train = np.array(y_train)\n",
        "#X_train = np.array(X_train)\n",
        "\n",
        "y_test = np.array(y_test)\n",
        "X_test = np.array(test_images)"
      ],
      "metadata": {
        "id": "-9uHFSws5Bb8"
      },
      "execution_count": null,
      "outputs": []
    },
    {
      "cell_type": "code",
      "source": [
        "# predict the number of fingers in the shape\n",
        "X_test.shape, y_test.shape"
      ],
      "metadata": {
        "colab": {
          "base_uri": "https://localhost:8080/"
        },
        "id": "-oAjknWfo2Qz",
        "outputId": "75d66486-2b3b-4db1-a168-7e272e902b4f"
      },
      "execution_count": null,
      "outputs": [
        {
          "output_type": "execute_result",
          "data": {
            "text/plain": [
              "((3600, 128, 128, 3), (3600, 12))"
            ]
          },
          "metadata": {},
          "execution_count": 54
        }
      ]
    },
    {
      "cell_type": "code",
      "source": [
        "m1=Sequential()\n",
        "m1.add(BatchNormalization(input_shape = (128,128,3)))\n",
        "m1.add(Convolution2D(32, (3,3), activation ='relu', input_shape = (128, 128, 3)))\n",
        "m1.add(MaxPooling2D(pool_size=2))\n",
        "m1.add(Convolution2D(filters=6,kernel_size=4,padding='same',activation='relu'))\n",
        "m1.add(MaxPooling2D(pool_size=2))\n",
        "m1.add(Convolution2D(filters=128,kernel_size=3,padding='same',activation='relu'))\n",
        "m1.add(MaxPooling2D(pool_size=2))\n",
        "m1.add(Convolution2D(filters=128,kernel_size=2,padding='same',activation='relu'))\n",
        "m1.add(MaxPooling2D(pool_size=2))\n",
        "m1.add(Flatten())\n",
        "m1.add(Dense(units=128,activation = 'relu'))\n",
        "m1.add(Dense(units = 64, activation = 'relu'))\n",
        "m1.add(Dense(units = 32, activation = 'relu'))\n",
        "m1.add(Dense(units = 12, activation = 'softmax'))"
      ],
      "metadata": {
        "id": "US02sQvZpZNR"
      },
      "execution_count": null,
      "outputs": []
    },
    {
      "cell_type": "code",
      "source": [
        "m1.compile(optimizer='adam', loss = 'categorical_crossentropy',metrics = ['accuracy'])"
      ],
      "metadata": {
        "id": "RnzQE69h1fZ2"
      },
      "execution_count": null,
      "outputs": []
    },
    {
      "cell_type": "code",
      "source": [
        "X_test.shape, y_test.shape"
      ],
      "metadata": {
        "colab": {
          "base_uri": "https://localhost:8080/"
        },
        "id": "3O6jab1953x7",
        "outputId": "d5618920-7746-49b3-d8d1-562c344c1090"
      },
      "execution_count": null,
      "outputs": [
        {
          "output_type": "execute_result",
          "data": {
            "text/plain": [
              "((3600, 128, 128, 3), (3600, 12))"
            ]
          },
          "metadata": {},
          "execution_count": 56
        }
      ]
    },
    {
      "cell_type": "code",
      "source": [
        "model = m1.fit(X_train,y_train,\n",
        "                    epochs=30,\n",
        "                    validation_data=(X_test,y_test),\n",
        "                    verbose = 1,\n",
        "                    initial_epoch=0)"
      ],
      "metadata": {
        "colab": {
          "base_uri": "https://localhost:8080/"
        },
        "id": "-vDU5rdn1kUZ",
        "outputId": "45727d84-dfba-4fbc-cc4b-7807413098ef"
      },
      "execution_count": null,
      "outputs": [
        {
          "output_type": "stream",
          "name": "stderr",
          "text": [
            "/usr/local/lib/python3.10/dist-packages/tensorflow/python/data/ops/structured_function.py:258: UserWarning: Even though the `tf.config.experimental_run_functions_eagerly` option is set, this option does not apply to tf.data functions. To force eager execution of tf.data functions, please use `tf.data.experimental.enable_debug_mode()`.\n",
            "  warnings.warn(\n"
          ]
        },
        {
          "output_type": "stream",
          "name": "stdout",
          "text": [
            "Epoch 1/30\n",
            "113/113 [==============================] - 14s 112ms/step - loss: 0.4937 - accuracy: 0.8347 - val_loss: 0.1568 - val_accuracy: 0.9436\n",
            "Epoch 2/30\n",
            "113/113 [==============================] - 12s 108ms/step - loss: 0.0443 - accuracy: 0.9897 - val_loss: 0.0064 - val_accuracy: 0.9986\n",
            "Epoch 3/30\n",
            "113/113 [==============================] - 13s 112ms/step - loss: 0.0125 - accuracy: 0.9964 - val_loss: 0.0309 - val_accuracy: 0.9894\n",
            "Epoch 4/30\n",
            "113/113 [==============================] - 12s 109ms/step - loss: 0.0339 - accuracy: 0.9897 - val_loss: 0.0026 - val_accuracy: 0.9994\n",
            "Epoch 5/30\n",
            "113/113 [==============================] - 16s 139ms/step - loss: 0.0041 - accuracy: 0.9992 - val_loss: 0.0154 - val_accuracy: 0.9950\n",
            "Epoch 6/30\n",
            "113/113 [==============================] - 12s 105ms/step - loss: 3.8066e-04 - accuracy: 1.0000 - val_loss: 4.0274e-05 - val_accuracy: 1.0000\n",
            "Epoch 7/30\n",
            "113/113 [==============================] - 12s 104ms/step - loss: 3.3406e-05 - accuracy: 1.0000 - val_loss: 2.5772e-05 - val_accuracy: 1.0000\n",
            "Epoch 8/30\n",
            "113/113 [==============================] - 12s 104ms/step - loss: 2.2209e-05 - accuracy: 1.0000 - val_loss: 1.9286e-05 - val_accuracy: 1.0000\n",
            "Epoch 9/30\n",
            "113/113 [==============================] - 12s 103ms/step - loss: 1.6926e-05 - accuracy: 1.0000 - val_loss: 1.5208e-05 - val_accuracy: 1.0000\n",
            "Epoch 10/30\n",
            "113/113 [==============================] - 12s 104ms/step - loss: 1.3616e-05 - accuracy: 1.0000 - val_loss: 1.2351e-05 - val_accuracy: 1.0000\n",
            "Epoch 11/30\n",
            "113/113 [==============================] - 12s 103ms/step - loss: 1.2284e-05 - accuracy: 1.0000 - val_loss: 1.0385e-05 - val_accuracy: 1.0000\n",
            "Epoch 12/30\n",
            "113/113 [==============================] - 14s 120ms/step - loss: 9.8087e-06 - accuracy: 1.0000 - val_loss: 8.7676e-06 - val_accuracy: 1.0000\n",
            "Epoch 13/30\n",
            "113/113 [==============================] - 15s 136ms/step - loss: 7.8993e-06 - accuracy: 1.0000 - val_loss: 7.5912e-06 - val_accuracy: 1.0000\n",
            "Epoch 14/30\n",
            "113/113 [==============================] - 19s 172ms/step - loss: 7.5191e-06 - accuracy: 1.0000 - val_loss: 6.4692e-06 - val_accuracy: 1.0000\n",
            "Epoch 15/30\n",
            "113/113 [==============================] - 14s 124ms/step - loss: 6.3172e-06 - accuracy: 1.0000 - val_loss: 5.5603e-06 - val_accuracy: 1.0000\n",
            "Epoch 16/30\n",
            "113/113 [==============================] - 14s 128ms/step - loss: 5.4611e-06 - accuracy: 1.0000 - val_loss: 4.9117e-06 - val_accuracy: 1.0000\n",
            "Epoch 17/30\n",
            "113/113 [==============================] - 12s 109ms/step - loss: 4.6039e-06 - accuracy: 1.0000 - val_loss: 4.3818e-06 - val_accuracy: 1.0000\n",
            "Epoch 18/30\n",
            "113/113 [==============================] - 12s 107ms/step - loss: 4.4295e-06 - accuracy: 1.0000 - val_loss: 3.8720e-06 - val_accuracy: 1.0000\n",
            "Epoch 19/30\n",
            "113/113 [==============================] - 12s 105ms/step - loss: 3.8001e-06 - accuracy: 1.0000 - val_loss: 3.4774e-06 - val_accuracy: 1.0000\n",
            "Epoch 20/30\n",
            "113/113 [==============================] - 13s 115ms/step - loss: 3.1643e-06 - accuracy: 1.0000 - val_loss: 3.1350e-06 - val_accuracy: 1.0000\n",
            "Epoch 21/30\n",
            "113/113 [==============================] - 12s 105ms/step - loss: 2.9227e-06 - accuracy: 1.0000 - val_loss: 2.7775e-06 - val_accuracy: 1.0000\n",
            "Epoch 22/30\n",
            "113/113 [==============================] - 12s 110ms/step - loss: 2.7193e-06 - accuracy: 1.0000 - val_loss: 2.5483e-06 - val_accuracy: 1.0000\n",
            "Epoch 23/30\n",
            "113/113 [==============================] - 12s 109ms/step - loss: 2.5533e-06 - accuracy: 1.0000 - val_loss: 2.2581e-06 - val_accuracy: 1.0000\n",
            "Epoch 24/30\n",
            "113/113 [==============================] - 12s 110ms/step - loss: 2.3749e-06 - accuracy: 1.0000 - val_loss: 2.0569e-06 - val_accuracy: 1.0000\n",
            "Epoch 25/30\n",
            "113/113 [==============================] - 12s 107ms/step - loss: 2.0564e-06 - accuracy: 1.0000 - val_loss: 1.8528e-06 - val_accuracy: 1.0000\n",
            "Epoch 26/30\n",
            "113/113 [==============================] - 16s 139ms/step - loss: 1.8065e-06 - accuracy: 1.0000 - val_loss: 1.6989e-06 - val_accuracy: 1.0000\n",
            "Epoch 27/30\n",
            "113/113 [==============================] - 12s 104ms/step - loss: 1.6353e-06 - accuracy: 1.0000 - val_loss: 1.5731e-06 - val_accuracy: 1.0000\n",
            "Epoch 28/30\n",
            "113/113 [==============================] - 12s 111ms/step - loss: 1.4648e-06 - accuracy: 1.0000 - val_loss: 1.4245e-06 - val_accuracy: 1.0000\n",
            "Epoch 29/30\n",
            "113/113 [==============================] - 13s 112ms/step - loss: 1.4894e-06 - accuracy: 1.0000 - val_loss: 1.2953e-06 - val_accuracy: 1.0000\n",
            "Epoch 30/30\n",
            "113/113 [==============================] - 12s 110ms/step - loss: 1.3682e-06 - accuracy: 1.0000 - val_loss: 1.1881e-06 - val_accuracy: 1.0000\n"
          ]
        }
      ]
    },
    {
      "cell_type": "code",
      "source": [
        "tf.config.run_functions_eagerly(True)"
      ],
      "metadata": {
        "id": "eSf4tTxE6wMr"
      },
      "execution_count": null,
      "outputs": []
    },
    {
      "cell_type": "code",
      "source": [
        "loss_and_metrics = m1.evaluate(X_test,y_test)\n",
        "print(loss_and_metrics)"
      ],
      "metadata": {
        "colab": {
          "base_uri": "https://localhost:8080/"
        },
        "id": "BgufiRXc50KP",
        "outputId": "f5faa177-4fd9-4395-f69d-9eaf0090af7c"
      },
      "execution_count": null,
      "outputs": [
        {
          "output_type": "stream",
          "name": "stderr",
          "text": [
            "/usr/local/lib/python3.10/dist-packages/tensorflow/python/data/ops/structured_function.py:258: UserWarning: Even though the `tf.config.experimental_run_functions_eagerly` option is set, this option does not apply to tf.data functions. To force eager execution of tf.data functions, please use `tf.data.experimental.enable_debug_mode()`.\n",
            "  warnings.warn(\n"
          ]
        },
        {
          "output_type": "stream",
          "name": "stdout",
          "text": [
            "113/113 [==============================] - 2s 20ms/step - loss: 1.1881e-06 - accuracy: 1.0000\n",
            "[1.1881430737048504e-06, 1.0]\n"
          ]
        }
      ]
    },
    {
      "cell_type": "code",
      "source": [
        "predicted_classes = m1.predict(X_test[:,:,:,:])\n",
        "predicted_classes = np.argmax(np.round(predicted_classes),axis=1)\n",
        "predicted_classes[0]"
      ],
      "metadata": {
        "colab": {
          "base_uri": "https://localhost:8080/"
        },
        "id": "3EZSHbb_1tLC",
        "outputId": "73d27d0e-d407-4e6a-e57f-5b25891cb6ff"
      },
      "execution_count": null,
      "outputs": [
        {
          "output_type": "stream",
          "name": "stdout",
          "text": [
            "113/113 [==============================] - 1s 11ms/step\n"
          ]
        },
        {
          "output_type": "execute_result",
          "data": {
            "text/plain": [
              "0"
            ]
          },
          "metadata": {},
          "execution_count": 61
        }
      ]
    },
    {
      "cell_type": "code",
      "source": [
        "import numpy as np\n",
        "k=X_test.shape[0]\n",
        "random_var=np.random.randint(k)\n",
        "random_var"
      ],
      "metadata": {
        "colab": {
          "base_uri": "https://localhost:8080/"
        },
        "id": "uTx8yafe7ZyK",
        "outputId": "fcf7f4fb-b096-46c3-bdf3-a7eef60d5b7d"
      },
      "execution_count": null,
      "outputs": [
        {
          "output_type": "execute_result",
          "data": {
            "text/plain": [
              "3044"
            ]
          },
          "metadata": {},
          "execution_count": 62
        }
      ]
    },
    {
      "cell_type": "code",
      "source": [
        "print(\"Prediction:\",predicted_classes[random_var])\n",
        "print(\"Actuals:   \",y_test[random_var])"
      ],
      "metadata": {
        "colab": {
          "base_uri": "https://localhost:8080/"
        },
        "id": "5ZsO6AiS7fMs",
        "outputId": "1414275f-321e-47a4-fd55-9baaadac32f7"
      },
      "execution_count": null,
      "outputs": [
        {
          "output_type": "stream",
          "name": "stdout",
          "text": [
            "Prediction: 11\n",
            "Actuals:    [0. 0. 0. 0. 0. 0. 0. 0. 0. 0. 0. 1.]\n"
          ]
        }
      ]
    }
  ]
}